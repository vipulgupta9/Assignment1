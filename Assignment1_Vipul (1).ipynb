{
 "cells": [
  {
   "cell_type": "raw",
   "id": "2ce328ee-d87f-4f61-864a-0fab7d08536c",
   "metadata": {},
   "source": [
    "Qus 1: Explain teh key features of Python that make it a popular choice of programming.\n",
    "\n",
    "Python is an easy to read, user friendly and write programming language. It has many libraries saved. \n",
    "\n",
    "Features of Python:\n",
    "\n",
    "1. User friendly syntax\n",
    "2. Easy to read and write\n",
    "3. It is a case sensitive language\n",
    "4. Object oriented approach\n",
    "5. It is used for programmign and software development, mathematical research, to analyze graphs and to interpret data, data visualization, etc.\n",
    "6. It works on any opearting system- Linux, windows, MacOS\n"
   ]
  },
  {
   "cell_type": "raw",
   "id": "093148f7-6099-4f8b-a6f4-8c9b84a39a39",
   "metadata": {},
   "source": [
    "Qus 2: Describe the role of predefined keywords in python and provide examples of how they are used in a program.\n",
    "\n",
    "Predefined keywords are special words that have specific meaning. These keywords cannot be used as identifiers (like variable names or function names) because they are part of Python's syntax. There are around 35 predefined keywords in Python. E.g.- if, elif, else, True, False, and many more.\n"
   ]
  },
  {
   "cell_type": "code",
   "execution_count": 2,
   "id": "be1b314a-1539-4e25-8110-051ef04f08b5",
   "metadata": {},
   "outputs": [
    {
     "name": "stdout",
     "output_type": "stream",
     "text": [
      "a is less than 50\n"
     ]
    }
   ],
   "source": [
    "a=45\n",
    "\n",
    "if a>60:\n",
    "    print(\"a is greater than 50\")\n",
    "elif a<50:\n",
    "    print(\"a is less than 50\")\n",
    "else:\n",
    "    print(\"what is value of a\")"
   ]
  },
  {
   "cell_type": "code",
   "execution_count": 4,
   "id": "787a399c-ae5b-4489-a4d2-d000caba93d1",
   "metadata": {},
   "outputs": [
    {
     "name": "stdout",
     "output_type": "stream",
     "text": [
      "what is value of a\n"
     ]
    }
   ],
   "source": [
    "a=55\n",
    "\n",
    "if a>60:\n",
    "    print(\"a is greater than 50\")\n",
    "elif a<50:\n",
    "    print(\"a is less than 50\")\n",
    "else:\n",
    "    print(\"what is value of a\")"
   ]
  },
  {
   "cell_type": "code",
   "execution_count": 5,
   "id": "bcb6d100-06ac-425a-a838-976632affd1b",
   "metadata": {},
   "outputs": [
    {
     "name": "stdout",
     "output_type": "stream",
     "text": [
      "a is greater than 50\n"
     ]
    }
   ],
   "source": [
    "a=65\n",
    "\n",
    "if a>60:\n",
    "    print(\"a is greater than 50\")\n",
    "elif a<50:\n",
    "    print(\"a is less than 50\")\n",
    "else:\n",
    "    print(\"what is value of a\")"
   ]
  },
  {
   "cell_type": "raw",
   "id": "7c5fd9cc-e572-4fb5-b5fa-4b368574e0c5",
   "metadata": {},
   "source": [
    "Qus 3. Compare and contrast mutable and immutable objects in python with examples.\n",
    "\n",
    "Mutable objects- Objects that can be modified in memory location.\n",
    "\n",
    "Immutable objects- Objects that cannot be modified in memory location."
   ]
  },
  {
   "cell_type": "code",
   "execution_count": 6,
   "id": "bc54f2f3-18da-4c2d-bf49-d624480c4b7d",
   "metadata": {},
   "outputs": [],
   "source": [
    "#Example of mutable object\n",
    "\n",
    "List1 = [\"vipul\", \"harshit\", \"devesh\", \"shobhit\"]"
   ]
  },
  {
   "cell_type": "code",
   "execution_count": 7,
   "id": "b8b9f820-ca63-468c-9982-5dac16505c55",
   "metadata": {},
   "outputs": [
    {
     "data": {
      "text/plain": [
       "['vipul', 'harshit', 'devesh', 'shobhit']"
      ]
     },
     "execution_count": 7,
     "metadata": {},
     "output_type": "execute_result"
    }
   ],
   "source": [
    "List1"
   ]
  },
  {
   "cell_type": "code",
   "execution_count": 8,
   "id": "9dc5b370-d5cf-4326-97a1-8a358230a5d1",
   "metadata": {},
   "outputs": [],
   "source": [
    "List1[0]= \"diksha\""
   ]
  },
  {
   "cell_type": "code",
   "execution_count": 9,
   "id": "9e4e1194-cf56-489c-b630-83673ab0b182",
   "metadata": {},
   "outputs": [
    {
     "data": {
      "text/plain": [
       "['diksha', 'harshit', 'devesh', 'shobhit']"
      ]
     },
     "execution_count": 9,
     "metadata": {},
     "output_type": "execute_result"
    }
   ],
   "source": [
    "List1"
   ]
  },
  {
   "cell_type": "code",
   "execution_count": 19,
   "id": "3fd2ce9b-50a8-45ad-8742-192b9d1b6232",
   "metadata": {},
   "outputs": [],
   "source": [
    "#Example of immutable object\n",
    "\n",
    "Tuple= (1,2,3)"
   ]
  },
  {
   "cell_type": "code",
   "execution_count": 20,
   "id": "7327d812-f207-44fd-bab8-ea0c78af1d05",
   "metadata": {},
   "outputs": [
    {
     "ename": "TypeError",
     "evalue": "'tuple' object does not support item assignment",
     "output_type": "error",
     "traceback": [
      "\u001b[1;31m---------------------------------------------------------------------------\u001b[0m",
      "\u001b[1;31mTypeError\u001b[0m                                 Traceback (most recent call last)",
      "Cell \u001b[1;32mIn[20], line 1\u001b[0m\n\u001b[1;32m----> 1\u001b[0m \u001b[43mTuple\u001b[49m\u001b[43m[\u001b[49m\u001b[38;5;241;43m0\u001b[39;49m\u001b[43m]\u001b[49m\u001b[38;5;241m=\u001b[39m\u001b[38;5;241m4\u001b[39m      \u001b[38;5;66;03m#it will not update\u001b[39;00m\n",
      "\u001b[1;31mTypeError\u001b[0m: 'tuple' object does not support item assignment"
     ]
    }
   ],
   "source": [
    "Tuple[0]=4      #it will not update"
   ]
  },
  {
   "cell_type": "raw",
   "id": "4819bb6e-29a3-4949-a2be-f43f28c750b1",
   "metadata": {},
   "source": [
    "Qus 4. Discuss teh different types of operator in python and provode examples how they are used.\n",
    "\n",
    "There are different types of operators in python-\n",
    "\n",
    "1. Arithmatic operators-\n",
    "\n",
    "Addition (+)\n",
    "Subtraction (-)\n",
    "Multiplication (*) \n",
    "Division(/) \n",
    "Floor Division(//) \n",
    "Modulus(%) \n",
    "Exponentiation(**) "
   ]
  },
  {
   "cell_type": "code",
   "execution_count": 21,
   "id": "a67cd902-4bf1-4d08-adb1-af5853b2d79b",
   "metadata": {},
   "outputs": [
    {
     "data": {
      "text/plain": [
       "8"
      ]
     },
     "execution_count": 21,
     "metadata": {},
     "output_type": "execute_result"
    }
   ],
   "source": [
    "5+3"
   ]
  },
  {
   "cell_type": "code",
   "execution_count": 23,
   "id": "b9d66c9d-08c6-4745-a2eb-03148f69c1dd",
   "metadata": {},
   "outputs": [
    {
     "data": {
      "text/plain": [
       "15"
      ]
     },
     "execution_count": 23,
     "metadata": {},
     "output_type": "execute_result"
    }
   ],
   "source": [
    "5*3"
   ]
  },
  {
   "cell_type": "raw",
   "id": "a4ef2f6c-3353-415c-ba49-625bb85db4c0",
   "metadata": {},
   "source": [
    "Comparison operators-\n",
    "\n",
    "Equal to(==) ---> 5 == 5 (True)\n",
    "Not equal to(!=)---> 5 != 3 (True)\n",
    "Greater than (>) ---> 5 > 3 (True)\n",
    "Less than(<) ---> 3 < 5 (True)\n",
    "Greater than or equal to(>=) ---> 5 >= 5 (True)\n",
    "Less than or equal to (<=) ---> 3 <= 5 (True)"
   ]
  },
  {
   "cell_type": "code",
   "execution_count": 29,
   "id": "ed07fbf1-5461-4a1e-a550-3a70b50e4a41",
   "metadata": {},
   "outputs": [
    {
     "data": {
      "text/plain": [
       "True"
      ]
     },
     "execution_count": 29,
     "metadata": {},
     "output_type": "execute_result"
    }
   ],
   "source": [
    "5!=3"
   ]
  },
  {
   "cell_type": "code",
   "execution_count": 30,
   "id": "f56a344e-70e5-4381-9440-4074d7432ef6",
   "metadata": {},
   "outputs": [
    {
     "data": {
      "text/plain": [
       "False"
      ]
     },
     "execution_count": 30,
     "metadata": {},
     "output_type": "execute_result"
    }
   ],
   "source": [
    "5!=5"
   ]
  },
  {
   "cell_type": "raw",
   "id": "2b8e52fb-dada-45ac-8762-899a21a383a8",
   "metadata": {},
   "source": [
    "Logical operators-\n",
    "\n",
    "AND, OR, NOT\n",
    "\n",
    "and (Returns True if both conditions are True) ---> x > 5 and x < 10\n",
    "or (Returns True if at least one condition is True) ---> x < 5 or x > 10\n",
    "not (Reverses the result of the condition not) ---> (x == 5)"
   ]
  },
  {
   "cell_type": "code",
   "execution_count": 31,
   "id": "0f673f5d-5fd3-4e4e-87c3-0b0d5575c1a8",
   "metadata": {},
   "outputs": [
    {
     "data": {
      "text/plain": [
       "True"
      ]
     },
     "execution_count": 31,
     "metadata": {},
     "output_type": "execute_result"
    }
   ],
   "source": [
    "x=5\n",
    "x>4"
   ]
  },
  {
   "cell_type": "code",
   "execution_count": 32,
   "id": "acb998ab-4a01-4d8e-9faa-2cb2d839ad2d",
   "metadata": {},
   "outputs": [
    {
     "data": {
      "text/plain": [
       "True"
      ]
     },
     "execution_count": 32,
     "metadata": {},
     "output_type": "execute_result"
    }
   ],
   "source": [
    "x>4 and x<7"
   ]
  },
  {
   "cell_type": "raw",
   "id": "29ff8d41-36dd-4494-b19d-60fdf1652888",
   "metadata": {},
   "source": [
    "Bitwise operator- represent binary numbers.\n",
    "\n",
    "Bitwise AND (&) ---> 5 & 3 = 1\n",
    "Bitwise OR (|) ---> 5 | 3 = 7\n",
    "Bitwise XOR (^) ---> 5 ^ 3 = 6\n",
    "Bitwise NOT (~) ---> ~5 = -6\n",
    "Left Shift (<<) ---> 5 << 2 = 20\n",
    "Right Shift (>>) ---> 5 >> 2 = 1"
   ]
  },
  {
   "cell_type": "code",
   "execution_count": 34,
   "id": "126d90bc-fbaf-4ace-9c26-0d137ee88d32",
   "metadata": {},
   "outputs": [
    {
     "data": {
      "text/plain": [
       "1"
      ]
     },
     "execution_count": 34,
     "metadata": {},
     "output_type": "execute_result"
    }
   ],
   "source": [
    "5&3"
   ]
  },
  {
   "cell_type": "code",
   "execution_count": 35,
   "id": "54414654-870c-4843-89ff-39da0ba82e02",
   "metadata": {},
   "outputs": [
    {
     "data": {
      "text/plain": [
       "7"
      ]
     },
     "execution_count": 35,
     "metadata": {},
     "output_type": "execute_result"
    }
   ],
   "source": [
    "5 | 3"
   ]
  },
  {
   "cell_type": "code",
   "execution_count": 36,
   "id": "2bc0ec5b-3940-4674-8495-fa2888b97702",
   "metadata": {},
   "outputs": [
    {
     "data": {
      "text/plain": [
       "-6"
      ]
     },
     "execution_count": 36,
     "metadata": {},
     "output_type": "execute_result"
    }
   ],
   "source": [
    "~5"
   ]
  },
  {
   "cell_type": "raw",
   "id": "e2fc5d07-4262-4be2-98a6-390f5282e832",
   "metadata": {},
   "source": [
    "Assignment operators-\n",
    "\n",
    "Assign value(=) ---> x = 5\n",
    "Add and assign(+=) ---> x += 3 (x = x + 3)\n",
    "Subtract and assign(+=) ---> x -= 3 (x = x - 3)\n",
    "Multiply and assign(*=) ---> x *= 3 (x = x * 3)\n",
    "Divide and assign(/=) ---> x /= 3 (x = x / 3)"
   ]
  },
  {
   "cell_type": "code",
   "execution_count": 37,
   "id": "6d7e86e9-4bd6-4dc2-96a2-ef8d33e4abfd",
   "metadata": {},
   "outputs": [],
   "source": [
    "x=5"
   ]
  },
  {
   "cell_type": "code",
   "execution_count": 38,
   "id": "b3e7ce57-b2af-4c15-9294-57ffbac00231",
   "metadata": {},
   "outputs": [],
   "source": [
    "x=x+3"
   ]
  },
  {
   "cell_type": "code",
   "execution_count": 39,
   "id": "ec044d53-02dc-48ef-a5e9-dfdedf173d5d",
   "metadata": {},
   "outputs": [
    {
     "data": {
      "text/plain": [
       "8"
      ]
     },
     "execution_count": 39,
     "metadata": {},
     "output_type": "execute_result"
    }
   ],
   "source": [
    "x"
   ]
  },
  {
   "cell_type": "code",
   "execution_count": 40,
   "id": "415c639a-8420-4100-aa32-3aa1921c5264",
   "metadata": {},
   "outputs": [],
   "source": [
    "x+=8"
   ]
  },
  {
   "cell_type": "code",
   "execution_count": 41,
   "id": "933953b4-d58d-454d-a482-664b5e870958",
   "metadata": {},
   "outputs": [
    {
     "data": {
      "text/plain": [
       "16"
      ]
     },
     "execution_count": 41,
     "metadata": {},
     "output_type": "execute_result"
    }
   ],
   "source": [
    "x"
   ]
  },
  {
   "cell_type": "raw",
   "id": "346fd05e-6be7-4221-99e9-620e87cd7093",
   "metadata": {},
   "source": [
    "Membership operators- tests wether a value is present in a sequence or not.\n",
    "\n",
    "in >> Returns True if value is found in the sequence \"a\" in apple\n",
    "not in >> Returns True if value is not found in the sequence \"z\" not in apple"
   ]
  },
  {
   "cell_type": "code",
   "execution_count": 42,
   "id": "8d11e745-f478-44f7-9dba-8f41cd958b4a",
   "metadata": {},
   "outputs": [],
   "source": [
    "name= \"Vipul Gupta\""
   ]
  },
  {
   "cell_type": "code",
   "execution_count": 43,
   "id": "809a1544-6298-4d80-861f-16bffaaa9b55",
   "metadata": {},
   "outputs": [
    {
     "data": {
      "text/plain": [
       "'Vipul Gupta'"
      ]
     },
     "execution_count": 43,
     "metadata": {},
     "output_type": "execute_result"
    }
   ],
   "source": [
    "name"
   ]
  },
  {
   "cell_type": "code",
   "execution_count": 45,
   "id": "bba5946e-a194-4fee-9d17-1526b9abb1a3",
   "metadata": {},
   "outputs": [
    {
     "data": {
      "text/plain": [
       "True"
      ]
     },
     "execution_count": 45,
     "metadata": {},
     "output_type": "execute_result"
    }
   ],
   "source": [
    "\"V\" in name"
   ]
  },
  {
   "cell_type": "code",
   "execution_count": 46,
   "id": "76bd17e9-0647-439a-b2e6-e5273b055dfd",
   "metadata": {},
   "outputs": [
    {
     "data": {
      "text/plain": [
       "True"
      ]
     },
     "execution_count": 46,
     "metadata": {},
     "output_type": "execute_result"
    }
   ],
   "source": [
    "\"J\" not in name"
   ]
  },
  {
   "cell_type": "raw",
   "id": "836599ec-95fd-41eb-be3b-6271bb2378ea",
   "metadata": {},
   "source": [
    "Identity operators- Compares the location of 2 objects\n",
    "\n",
    "is >> returns true if both variables point at same object\n",
    "is not >> returns true if both variables point at different object"
   ]
  },
  {
   "cell_type": "code",
   "execution_count": 47,
   "id": "d791f369-e084-47ea-9054-1d1fe1e0eed8",
   "metadata": {},
   "outputs": [
    {
     "data": {
      "text/plain": [
       "False"
      ]
     },
     "execution_count": 47,
     "metadata": {},
     "output_type": "execute_result"
    }
   ],
   "source": [
    "a=5\n",
    "b=6\n",
    "a is b"
   ]
  },
  {
   "cell_type": "code",
   "execution_count": 48,
   "id": "d530d337-4411-4fb7-897a-7c37dcf06c3b",
   "metadata": {},
   "outputs": [
    {
     "data": {
      "text/plain": [
       "True"
      ]
     },
     "execution_count": 48,
     "metadata": {},
     "output_type": "execute_result"
    }
   ],
   "source": [
    "a is not b"
   ]
  },
  {
   "cell_type": "raw",
   "id": "1d45a0d4-4c74-4d8f-9ce6-755d0cad14b7",
   "metadata": {},
   "source": [
    "Qus 5. Explain the concept of type casting in python with examples.\n",
    "\n",
    "The type casting is used to change the format. \n",
    "\n",
    "example-"
   ]
  },
  {
   "cell_type": "code",
   "execution_count": 56,
   "id": "143bc393-f1c1-47d9-9e64-79723a788ec5",
   "metadata": {},
   "outputs": [],
   "source": [
    "a=\"5\""
   ]
  },
  {
   "cell_type": "code",
   "execution_count": 50,
   "id": "74a0b3b4-008c-404e-a6f3-4efd96705b94",
   "metadata": {},
   "outputs": [
    {
     "data": {
      "text/plain": [
       "str"
      ]
     },
     "execution_count": 50,
     "metadata": {},
     "output_type": "execute_result"
    }
   ],
   "source": [
    "type(a)    #it will be string"
   ]
  },
  {
   "cell_type": "code",
   "execution_count": 51,
   "id": "751cde01-a3b7-4868-8fcd-2dbd9c53d805",
   "metadata": {},
   "outputs": [],
   "source": [
    "a= int(a)   #it will change to integer"
   ]
  },
  {
   "cell_type": "code",
   "execution_count": 52,
   "id": "a14c0272-26b1-40f2-8986-99fd557eec7c",
   "metadata": {},
   "outputs": [
    {
     "data": {
      "text/plain": [
       "int"
      ]
     },
     "execution_count": 52,
     "metadata": {},
     "output_type": "execute_result"
    }
   ],
   "source": [
    "type(a)"
   ]
  },
  {
   "cell_type": "code",
   "execution_count": 54,
   "id": "c5dcf03d-6777-4d5d-8d5f-404a71a2b142",
   "metadata": {},
   "outputs": [],
   "source": [
    "a= bool(a)    #it will change to boolean"
   ]
  },
  {
   "cell_type": "code",
   "execution_count": 55,
   "id": "f2de0d72-311c-4386-b03b-2c3d119d5fb5",
   "metadata": {},
   "outputs": [
    {
     "data": {
      "text/plain": [
       "bool"
      ]
     },
     "execution_count": 55,
     "metadata": {},
     "output_type": "execute_result"
    }
   ],
   "source": [
    "type(a)"
   ]
  },
  {
   "cell_type": "code",
   "execution_count": 57,
   "id": "64983ac9-b8b5-49e7-b85b-59e4d5f084c4",
   "metadata": {},
   "outputs": [],
   "source": [
    "a= float(a)"
   ]
  },
  {
   "cell_type": "code",
   "execution_count": 59,
   "id": "c1191666-91bc-4dc6-969e-f58062cdf1b3",
   "metadata": {},
   "outputs": [
    {
     "data": {
      "text/plain": [
       "float"
      ]
     },
     "execution_count": 59,
     "metadata": {},
     "output_type": "execute_result"
    }
   ],
   "source": [
    "type(a)   #it will change to float"
   ]
  },
  {
   "cell_type": "raw",
   "id": "a29d0a15-bd3f-48b3-961a-25db5cbee3a0",
   "metadata": {},
   "source": [
    "Qus 6. How to conditional statements work in python? Illustrate with examples.\n",
    "\n",
    "Conditional statements helps you to code decision based on some pre-conditions.\n",
    "\n",
    "There are if, elif, nested if else and else statements"
   ]
  },
  {
   "cell_type": "code",
   "execution_count": 60,
   "id": "c010f475-6a24-45a8-83cc-a7eb7cf8e09e",
   "metadata": {},
   "outputs": [
    {
     "name": "stdout",
     "output_type": "stream",
     "text": [
      "x is greater than 10\n"
     ]
    }
   ],
   "source": [
    "#if statement\n",
    "\n",
    "x=50\n",
    "if x>10:\n",
    "    print(\"x is greater than 10\")    #it will paste the statement"
   ]
  },
  {
   "cell_type": "code",
   "execution_count": 62,
   "id": "6f31d74e-dd69-4210-b11a-180fbb905b4e",
   "metadata": {},
   "outputs": [
    {
     "name": "stdout",
     "output_type": "stream",
     "text": [
      "x is smaller than 60\n"
     ]
    }
   ],
   "source": [
    "#else statement\n",
    "\n",
    "x=50\n",
    "if x>60:\n",
    "    print(\"x is greater than 60\")\n",
    "else:\n",
    "    print(\"x is smaller than 60\")    #it will paste the else statement"
   ]
  },
  {
   "cell_type": "code",
   "execution_count": 63,
   "id": "93aecb98-f32b-439c-8314-58f37d6f29d0",
   "metadata": {},
   "outputs": [
    {
     "name": "stdout",
     "output_type": "stream",
     "text": [
      "x is smaller than 60\n"
     ]
    }
   ],
   "source": [
    "#elif statement\n",
    "\n",
    "x=50\n",
    "if x>60:\n",
    "    print(\"x is greater than 60\")\n",
    "elif x<60:\n",
    "    print(\"x is smaller than 60\")\n",
    "else:\n",
    "    print(\"x is equal to 60\")    #it will paste the elif statement"
   ]
  },
  {
   "cell_type": "code",
   "execution_count": 66,
   "id": "36161b37-4428-4607-a642-3c6a83bcb339",
   "metadata": {},
   "outputs": [
    {
     "name": "stdout",
     "output_type": "stream",
     "text": [
      "you are welcome\n"
     ]
    }
   ],
   "source": [
    "#nested if else\n",
    "\n",
    "vip=55\n",
    "age=18\n",
    "\n",
    "if vip>=18:\n",
    "    if age<=60:\n",
    "        print(\"you are welcome\")\n",
    "    else:\n",
    "        print(\"you are not welcome\")\n",
    "else:\n",
    "    print(\"you are less than 18\")    #it wil paste you are welcome"
   ]
  },
  {
   "cell_type": "raw",
   "id": "0fc63f34-7b26-4839-a429-115555ec8a01",
   "metadata": {},
   "source": [
    "Qus 7. Describe the different types of loops in python and their use cases with examples.\n",
    "\n",
    "It allows you to execute a block of code repeatedly. There are 2 types of loops- for and while.\n",
    "\n"
   ]
  }
 ],
 "metadata": {
  "kernelspec": {
   "display_name": "Python 3 (ipykernel)",
   "language": "python",
   "name": "python3"
  },
  "language_info": {
   "codemirror_mode": {
    "name": "ipython",
    "version": 3
   },
   "file_extension": ".py",
   "mimetype": "text/x-python",
   "name": "python",
   "nbconvert_exporter": "python",
   "pygments_lexer": "ipython3",
   "version": "3.12.6"
  }
 },
 "nbformat": 4,
 "nbformat_minor": 5
}
